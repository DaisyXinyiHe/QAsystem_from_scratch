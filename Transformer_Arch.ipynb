{
  "nbformat": 4,
  "nbformat_minor": 0,
  "metadata": {
    "colab": {
      "provenance": []
    },
    "kernelspec": {
      "name": "python3",
      "display_name": "Python 3"
    },
    "language_info": {
      "name": "python"
    }
  },
  "cells": [
    {
      "cell_type": "markdown",
      "source": [
        "# Transformer Architesture\n"
      ],
      "metadata": {
        "id": "2uUPX6oziBPk"
      }
    },
    {
      "cell_type": "code",
      "execution_count": null,
      "metadata": {
        "id": "3R4x2iM0h4zD"
      },
      "outputs": [],
      "source": [
        "# Tokenizer\n",
        "## Load the tokenizer from BERT as a start point\n",
        "## Tokenization takes the text and maps input sequences to numbers.\n",
        "## Tokienizer maps words to number IDs\n",
        "from transformers import AutoTokenizer\n",
        "tokenizer = AutoTokenizer.from_pretrained('bert-base-uncased')"
      ]
    },
    {
      "cell_type": "code",
      "source": [
        "text = ['The airplane flies across the sky.','Time flies by very fast.', 'Fruit flies are nasty.']\n",
        "inputs = tokenizer(text, padding=True, truncation=True, return_tensors='pt', add_special_tokens=True)\n",
        "inputs\n",
        "\n",
        "\n"
      ],
      "metadata": {
        "id": "cYatNgI_h848"
      },
      "execution_count": null,
      "outputs": []
    },
    {
      "cell_type": "code",
      "source": [
        "## Embedding\n",
        "## Embedding turns mapping of the input text vector to the embedding matrix.\n",
        "## represnented rltship btwn tokens\n",
        "from torch import nn\n",
        "from transformers import AutoConfig\n",
        "config = AutoConfig.from_pretrained('bert-base-uncased')\n",
        "token_emb = nn.Embedding(config.vocab_size, config.hidden_size)\n",
        "\n"
      ],
      "metadata": {
        "id": "AgnnIGUiwTeP"
      },
      "execution_count": null,
      "outputs": []
    },
    {
      "cell_type": "code",
      "source": [
        "token_emb"
      ],
      "metadata": {
        "id": "eO7cWi4D2BCs"
      },
      "execution_count": null,
      "outputs": []
    },
    {
      "cell_type": "code",
      "source": [
        "input_embeds = token_emb(inputs.input_ids)\n",
        "\n",
        "# print(input_embeds[0][3], input_embeds[1][2], input_embeds[2][2])\n",
        "#\n",
        "\n",
        "## Notice that embedding for [CLS] and [SEP] are the same, embedding vectors for the same words are the same, regardless of meaning/context.\n",
        "## There is embedding for padding and punctuations too\n",
        "##"
      ],
      "metadata": {
        "id": "VZzFQoNZ2aSG"
      },
      "execution_count": null,
      "outputs": []
    },
    {
      "cell_type": "code",
      "source": [
        "print(input_embeds[0][3].shape) ## 768 dimensions in the embeddings"
      ],
      "metadata": {
        "id": "OztmNfKz2pki"
      },
      "execution_count": null,
      "outputs": []
    },
    {
      "cell_type": "code",
      "source": [
        "input_embeds.shape\n",
        "\n",
        "## [batch size: 3 bc 3 sentences,\n",
        "## seq_len: 9 because longest sentence length is 6 + 1 for punctuation + 2 for begining and ending token CLS and SEP]\n",
        "## hidden_dim: Bert hidden dimention for each embedding for each word"
      ],
      "metadata": {
        "id": "S16zFVYD7HkO"
      },
      "execution_count": null,
      "outputs": []
    },
    {
      "cell_type": "code",
      "source": [
        "## Attention head\n",
        "import torch\n",
        "from math import sqrt\n",
        "import torch.nn.functional as F\n",
        "\n",
        "def scaled_doct_product_attention(query, key,value):\n",
        "\n",
        "  dim_k = key.size(-1) ## embedding size 768\n",
        "  scores = torch.bmm(query, key.transpose(1,2))/sqrt(dim_k)\n",
        "  weights = F.softmax(scores, dim=1)\n",
        "  attn_outputs = torch.bmm(weights,value)\n",
        "  return attn_outputs\n"
      ],
      "metadata": {
        "id": "DOj9_9LO4YmH"
      },
      "execution_count": null,
      "outputs": []
    },
    {
      "cell_type": "code",
      "source": [],
      "metadata": {
        "id": "cYLSRYR2KIcz"
      },
      "execution_count": null,
      "outputs": []
    },
    {
      "cell_type": "code",
      "source": [
        "class AttentionHead(nn.Module):\n",
        "  def __init__(self, embed_dim, head_dim):\n",
        "    super().__init__()\n",
        "    self.q = nn.Linear(embed_dim, head_dim)\n",
        "    self.k = nn.Linear(embed_dim, head_dim)\n",
        "    self.v = nn.Linear(embed_dim, head_dim)\n",
        "\n",
        "  def forward(self,hidden_state):\n",
        "    attn_outputs = scaled_doct_product_attention(self.q(hidden_state), self.k(hidden_state),self.v(hidden_state))\n",
        "    return attn_outputs\n",
        "\n"
      ],
      "metadata": {
        "id": "X_xj-iQeGwCD"
      },
      "execution_count": null,
      "outputs": []
    },
    {
      "cell_type": "code",
      "source": [
        "class MultiHeadAttention(nn.Module):\n",
        "  def __init__(self, config):\n",
        "    super().__init__()\n",
        "    embed_dim = config.hidden_size\n",
        "    num_heads = config.num_attention_heads\n",
        "    head_dim = embed_dim // num_heads\n",
        "    self.heads = nn.ModuleList(\n",
        "        [AttentionHead(embed_dim, head_dim) for _ in range(num_heads)]\n",
        "    )\n",
        "    self.output_linear = nn.Linear(embed_dim, embed_dim)\n",
        "\n",
        "\n",
        "  def forward(self,hidden_state):\n",
        "    # print(hidden_state.shape)\n",
        "    # for h in self.heads:\n",
        "    #   print(h(hidden_state)[0][0].shape)\n",
        "    x = torch.cat([h(hidden_state) for h in self.heads],dim=-1)\n",
        "    # print(x)\n",
        "    # print(x.shape)\n",
        "    x = self.output_linear(x)\n",
        "    # print(x.shape)\n",
        "    return x\n",
        "\n",
        "\n",
        "\n"
      ],
      "metadata": {
        "id": "E0Ry0iI-G4Ac"
      },
      "execution_count": null,
      "outputs": []
    },
    {
      "cell_type": "code",
      "source": [
        "multihead_attn = MultiHeadAttention(config)"
      ],
      "metadata": {
        "id": "ekKtdolIG5w9"
      },
      "execution_count": null,
      "outputs": []
    },
    {
      "cell_type": "code",
      "source": [
        "config\n"
      ],
      "metadata": {
        "id": "QVtiUZb_TfsA"
      },
      "execution_count": null,
      "outputs": []
    },
    {
      "cell_type": "code",
      "source": [
        "multihead_attn"
      ],
      "metadata": {
        "id": "FTY4hLz1TUyi"
      },
      "execution_count": null,
      "outputs": []
    },
    {
      "cell_type": "code",
      "source": [
        "attn_output = multihead_attn(input_embeds)"
      ],
      "metadata": {
        "id": "ssJV919vTcGe"
      },
      "execution_count": null,
      "outputs": []
    },
    {
      "cell_type": "code",
      "source": [],
      "metadata": {
        "id": "Z0XxlKX9ajrm"
      },
      "execution_count": null,
      "outputs": []
    },
    {
      "cell_type": "code",
      "source": [
        "class FeedForward(nn.Module):\n",
        "  def __init__(self,config):\n",
        "    super().__init__()\n",
        "    self.linear1 = nn.Linear(config.hidden_size, config.intermediate_size)\n",
        "    self.linear2 = nn.Linear(config.intermediate_size, config.hidden_size)\n",
        "    self.gelu = nn.GELU()\n",
        "    self.dropout = nn.Dropout(config.hidden_dropout_prob)\n",
        "  def forward(self,x):\n",
        "    x = self.linear1(x)\n",
        "    x = self.gelu(x)\n",
        "    x = self.linear2(x)\n",
        "    x = self.dropout(x)\n",
        "    return x\n"
      ],
      "metadata": {
        "id": "Hiq0w6o1UE5e"
      },
      "execution_count": null,
      "outputs": []
    },
    {
      "cell_type": "code",
      "source": [
        "feed_forward = FeedForward(config)"
      ],
      "metadata": {
        "id": "D_m-MS-zUcB2"
      },
      "execution_count": null,
      "outputs": []
    },
    {
      "cell_type": "code",
      "source": [
        "ff_outputs = feed_forward(attn_output)"
      ],
      "metadata": {
        "id": "93W_7bhBZv_t"
      },
      "execution_count": null,
      "outputs": []
    },
    {
      "cell_type": "code",
      "source": [
        "ff_outputs.shape"
      ],
      "metadata": {
        "id": "WjK_wFs8b2v3"
      },
      "execution_count": null,
      "outputs": []
    },
    {
      "cell_type": "code",
      "source": [
        "class TransformerEncoderLayer(nn.Module):\n",
        "  def __init__(self, config):\n",
        "    super().__init__()\n",
        "    self.layer_norm1 = nn.LayerNorm(config.hidden_size)\n",
        "    self.layer_norm2 = nn.LayerNorm(config.hidden_size)\n",
        "    self.attention = MultiHeadAttention(config)\n",
        "    self.feed_forward = FeedForward(config)\n",
        "\n",
        "  def forward(self, x):\n",
        "    hidden_state = self.layer_norm1(x)\n",
        "    x = x+self.attention(hidden_state)\n",
        "    x+=self.feed_forward(self.layer_norm2(x))\n",
        "    return x\n",
        "\n"
      ],
      "metadata": {
        "id": "2f_sLFF4b6MD"
      },
      "execution_count": null,
      "outputs": []
    },
    {
      "cell_type": "code",
      "source": [
        "encoder_layer = TransformerEncoderLayer(config)\n",
        "input_embeds.shape, encoder_layer(input_embeds).shape"
      ],
      "metadata": {
        "id": "2srXhzu8fxIw"
      },
      "execution_count": null,
      "outputs": []
    },
    {
      "cell_type": "code",
      "source": [
        "class Embeddings(nn.Module):\n",
        "  def __init__(self, config):\n",
        "    super().__init__()\n",
        "    self.token_embeddings = nn.Embedding(config.vocab_size, config.hidden_size)\n",
        "    self.position_embeddings = nn.Embedding(config.max_position_embeddings, config.hidden_size)\n",
        "    self.layer_norm = nn.LayerNorm(config.hidden_size, eps=1e-12)\n",
        "    self.dropout = nn.Dropout()\n",
        "\n",
        "  def forward(self, input_ids):\n",
        "    seq_length = input_ids.size(1)\n",
        "    position_ids = torch.arange(seq_length, dtype = torch.long).unsqueeze(0)\n",
        "    token_embeddings = self.token_embeddings(input_ids)\n",
        "    position_embeddings = self.position_embeddings(position_ids)\n",
        "    embeddings = token_embeddings+position_embeddings\n",
        "    embeddings = self.layer_norm(embeddings)\n",
        "    embeddings = self.dropout(embeddings)\n",
        "    return embeddings\n"
      ],
      "metadata": {
        "id": "aOKZUkRof_HV"
      },
      "execution_count": null,
      "outputs": []
    },
    {
      "cell_type": "code",
      "source": [
        "embedding_layer = Embeddings(config)\n",
        "embedding_layer(inputs.input_ids).size()"
      ],
      "metadata": {
        "id": "cI3Yd1EXnPhK"
      },
      "execution_count": null,
      "outputs": []
    },
    {
      "cell_type": "code",
      "source": [
        "inputs.input_ids"
      ],
      "metadata": {
        "id": "4h5IYhhgnVfK"
      },
      "execution_count": null,
      "outputs": []
    },
    {
      "cell_type": "code",
      "source": [
        "class TransformerEncoder(nn.Module):\n",
        "  def __init__(self, config):\n",
        "    super().__init__()\n",
        "    self.embeddings = Embeddings(config)\n",
        "    self.layers = nn.ModuleList(\n",
        "        [TransformerEncoderLayer(config) for _ in range(config.num_hidden_layers)]\n",
        "    )\n",
        "\n",
        "  def forward(self,x):\n",
        "    x = self.embeddings(x)\n",
        "    for layer in self.layers:\n",
        "      x = layer(x)\n",
        "    return x"
      ],
      "metadata": {
        "id": "bvNhz33UntCi"
      },
      "execution_count": null,
      "outputs": []
    },
    {
      "cell_type": "code",
      "source": [
        "encoder = TransformerEncoder(config)\n",
        "encoder(inputs.input_ids).size()"
      ],
      "metadata": {
        "id": "IXTjTBMVp7zE"
      },
      "execution_count": null,
      "outputs": []
    },
    {
      "cell_type": "code",
      "source": [
        "## Adding a classification head\n",
        "class TransformerForSequenceClassification(nn.Module):\n",
        "  def __init__(self, config):\n",
        "    super().__init__()\n",
        "    self.encoder = TransformerEncoder(config)\n",
        "    self.dropout = nn.Dropout(config.hidden_dropout_prob)\n",
        "    self.classifier = nn.Linear(config.hidden_size, config.num_labels)\n",
        "\n",
        "  def forward(self,x):\n",
        "    x = self.encoder(x)[:,0,:] ## select hidden state of [CLS] token\n",
        "    x = self.dropout(x)\n",
        "    x = self.classifier(x)\n",
        "    return x"
      ],
      "metadata": {
        "id": "Q83Vfx49qJ7-"
      },
      "execution_count": null,
      "outputs": []
    },
    {
      "cell_type": "code",
      "source": [
        "config.num_labels = 3\n",
        "encoder_classifier = TransformerForSequenceClassification(config)\n",
        "encoder_classifier(inputs.input_ids).size()"
      ],
      "metadata": {
        "id": "s2Eunv6VsTs3"
      },
      "execution_count": null,
      "outputs": []
    },
    {
      "cell_type": "code",
      "source": [
        "encoder_classifier(inputs.input_ids)"
      ],
      "metadata": {
        "id": "AaHawdRbsmH8"
      },
      "execution_count": null,
      "outputs": []
    },
    {
      "cell_type": "code",
      "source": [
        "## decoder\n",
        "seq_len = inputs.input_ids.size(-1)\n",
        "mask = torch.tril(torch.ones(seq_len, seq_len)).unsqueeze(0)\n",
        "mask"
      ],
      "metadata": {
        "id": "Ma_fdDbvsog2"
      },
      "execution_count": null,
      "outputs": []
    },
    {
      "cell_type": "code",
      "source": [
        "scores"
      ],
      "metadata": {
        "id": "NFFyTS9tt2-9"
      },
      "execution_count": null,
      "outputs": []
    },
    {
      "cell_type": "code",
      "source": [
        "scores.masked_fill(mask==0,-float('inf'))"
      ],
      "metadata": {
        "id": "cdezwe_ZtW7s"
      },
      "execution_count": null,
      "outputs": []
    },
    {
      "cell_type": "code",
      "source": [
        "def scaled_doct_product_attention(query, key, value, mask = None):\n",
        "  dim_k = query.size(-1)\n",
        "  scores = torch.bmm(query, key.transpose(1,2)) / sqrt(dim_k)\n",
        "  if mask is not None:\n",
        "    scores = scores.masked_fill(mask == 0,-float('inf'))\n",
        "  weights = F.softmax(scores, dim = -1)\n",
        "  return weights.bmm(value)"
      ],
      "metadata": {
        "id": "ZjILI-o3tfXd"
      },
      "execution_count": null,
      "outputs": []
    },
    {
      "cell_type": "code",
      "source": [
        "## GPT archtesture and trainer"
      ],
      "metadata": {
        "id": "DtB60pP2ucfS"
      },
      "execution_count": null,
      "outputs": []
    }
  ]
}